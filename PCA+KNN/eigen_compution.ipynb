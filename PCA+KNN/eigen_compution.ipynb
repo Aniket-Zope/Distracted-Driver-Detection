{
 "cells": [
  {
   "cell_type": "code",
   "execution_count": 1,
   "metadata": {
    "executionInfo": {
     "elapsed": 5983,
     "status": "ok",
     "timestamp": 1682368304224,
     "user": {
      "displayName": "Raj Katkar",
      "userId": "12290457898885862298"
     },
     "user_tz": -330
    },
    "id": "24iVrTcy7trx"
   },
   "outputs": [],
   "source": [
    "import numpy as np\n",
    "import torch"
   ]
  },
  {
   "cell_type": "code",
   "execution_count": 2,
   "metadata": {
    "colab": {
     "base_uri": "https://localhost:8080/"
    },
    "executionInfo": {
     "elapsed": 20211,
     "status": "ok",
     "timestamp": 1682368328684,
     "user": {
      "displayName": "Raj Katkar",
      "userId": "12290457898885862298"
     },
     "user_tz": -330
    },
    "id": "pCintGob9U-W",
    "outputId": "cc18c982-b3ba-40e8-cdb0-2afcf7bf0bba"
   },
   "outputs": [
    {
     "name": "stdout",
     "output_type": "stream",
     "text": [
      "Mounted at /content/drive\n"
     ]
    }
   ],
   "source": [
    "from google.colab import drive\n",
    "drive.mount('/content/drive')"
   ]
  },
  {
   "cell_type": "code",
   "execution_count": 3,
   "metadata": {
    "executionInfo": {
     "elapsed": 106055,
     "status": "ok",
     "timestamp": 1682368437153,
     "user": {
      "displayName": "Raj Katkar",
      "userId": "12290457898885862298"
     },
     "user_tz": -330
    },
    "id": "cgzbgbMl74mJ"
   },
   "outputs": [],
   "source": [
    "C_dd = np.load('/content/drive/MyDrive/Colab Notebooks/Covariance_180_127_train.npy')"
   ]
  },
  {
   "cell_type": "code",
   "execution_count": 7,
   "metadata": {
    "executionInfo": {
     "elapsed": 59161,
     "status": "ok",
     "timestamp": 1682368552725,
     "user": {
      "displayName": "Raj Katkar",
      "userId": "12290457898885862298"
     },
     "user_tz": -330
    },
    "id": "M_AkVkCm77tB"
   },
   "outputs": [],
   "source": [
    "A = torch.tensor(C_dd, dtype=torch.float32).cuda()\n",
    "\n",
    "# Calculate the eigenvalues and eigenvectors\n",
    "eigenvalues, eigenvectors = torch.linalg.eigh(A)\n"
   ]
  },
  {
   "cell_type": "code",
   "execution_count": 8,
   "metadata": {
    "executionInfo": {
     "elapsed": 11019,
     "status": "ok",
     "timestamp": 1682368567896,
     "user": {
      "displayName": "Raj Katkar",
      "userId": "12290457898885862298"
     },
     "user_tz": -330
    },
    "id": "IQfGHE_7-MK_"
   },
   "outputs": [],
   "source": [
    "torch.save(eigenvectors,'Eig_vectors.pt')"
   ]
  }
 ],
 "metadata": {
  "accelerator": "GPU",
  "colab": {
   "authorship_tag": "ABX9TyN2u0brakIdgBzi7Im1m2wT",
   "provenance": []
  },
  "gpuClass": "standard",
  "kernelspec": {
   "display_name": "Python 3 (ipykernel)",
   "language": "python",
   "name": "python3"
  },
  "language_info": {
   "codemirror_mode": {
    "name": "ipython",
    "version": 3
   },
   "file_extension": ".py",
   "mimetype": "text/x-python",
   "name": "python",
   "nbconvert_exporter": "python",
   "pygments_lexer": "ipython3",
   "version": "3.9.12"
  }
 },
 "nbformat": 4,
 "nbformat_minor": 1
}
