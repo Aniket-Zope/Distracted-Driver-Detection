{
 "cells": [
  {
   "cell_type": "code",
   "execution_count": 1,
   "id": "ddf17eae",
   "metadata": {},
   "outputs": [],
   "source": [
    "import cv2\n",
    "import matplotlib.pyplot as plt\n",
    "import os\n",
    "import glob\n",
    "import numpy as np"
   ]
  },
  {
   "cell_type": "code",
   "execution_count": 2,
   "id": "19d88973",
   "metadata": {},
   "outputs": [],
   "source": [
    "X_dn = np.load('C:/Users/PDL LAB17/Desktop/IPML_raj_katkar/X_dn_third_train.npy')"
   ]
  },
  {
   "cell_type": "code",
   "execution_count": 3,
   "id": "b5846b70",
   "metadata": {},
   "outputs": [
    {
     "name": "stdout",
     "output_type": "stream",
     "text": [
      "(22860, 18151)\n"
     ]
    }
   ],
   "source": [
    "print(X_dn.shape)"
   ]
  },
  {
   "cell_type": "code",
   "execution_count": 4,
   "id": "5a10e859",
   "metadata": {},
   "outputs": [
    {
     "name": "stderr",
     "output_type": "stream",
     "text": [
      "C:\\Users\\PDL LAB17\\anaconda3\\envs\\raj_k\\lib\\site-packages\\cupy\\_environment.py:206: UserWarning: CUDA path could not be detected. Set CUDA_PATH environment variable if CuPy fails to load.\n",
      "  'CUDA path could not be detected.'\n"
     ]
    }
   ],
   "source": [
    "import cupy as cp"
   ]
  },
  {
   "cell_type": "code",
   "execution_count": 5,
   "id": "5a7c3881",
   "metadata": {},
   "outputs": [],
   "source": [
    "X_gpu = cp.asarray(X_dn)"
   ]
  },
  {
   "cell_type": "code",
   "execution_count": 6,
   "id": "3e35763e",
   "metadata": {},
   "outputs": [
    {
     "name": "stdout",
     "output_type": "stream",
     "text": [
      "(22860, 18151)\n"
     ]
    }
   ],
   "source": [
    "print(X_gpu.shape)"
   ]
  },
  {
   "cell_type": "code",
   "execution_count": 7,
   "id": "d57c2ec0",
   "metadata": {},
   "outputs": [],
   "source": [
    "result_gpu = cp.dot(X_gpu, X_gpu.T)"
   ]
  },
  {
   "cell_type": "code",
   "execution_count": 8,
   "id": "f31cdd08",
   "metadata": {},
   "outputs": [],
   "source": [
    "result = cp.asnumpy(result_gpu)"
   ]
  },
  {
   "cell_type": "code",
   "execution_count": 9,
   "id": "158a37c7",
   "metadata": {},
   "outputs": [],
   "source": [
    "result1 = result/18151"
   ]
  },
  {
   "cell_type": "code",
   "execution_count": 17,
   "id": "f9eae8b9",
   "metadata": {},
   "outputs": [],
   "source": [
    "result2  = result1.astype(np.float16)"
   ]
  },
  {
   "cell_type": "code",
   "execution_count": 19,
   "id": "8cb6a1d9",
   "metadata": {},
   "outputs": [
    {
     "name": "stdout",
     "output_type": "stream",
     "text": [
      "[[0.014046 0.00755  0.011406 ... 0.01212  0.00584  0.002258]\n",
      " [0.00755  0.003305 0.00496  ... 0.00303  0.002644 0.00628 ]\n",
      " [0.011406 0.00496  0.004463 ... 0.01399  0.011955 0.01212 ]\n",
      " ...\n",
      " [0.01212  0.00303  0.01399  ... 0.01151  0.001708 0.00958 ]\n",
      " [0.00584  0.002644 0.011955 ... 0.001708 0.01228  0.003967]\n",
      " [0.002258 0.00628  0.01212  ... 0.00958  0.003967 0.003635]]\n"
     ]
    }
   ],
   "source": [
    "print(result2)"
   ]
  },
  {
   "cell_type": "code",
   "execution_count": 18,
   "id": "9f172a51",
   "metadata": {},
   "outputs": [],
   "source": [
    "np.save('C_dd_1.npy',result2)"
   ]
  },
  {
   "cell_type": "code",
   "execution_count": null,
   "id": "81c7b073",
   "metadata": {},
   "outputs": [],
   "source": [
    "for i in range(22860):\n",
    "    for j in range(18151):\n",
    "        result[i][j] = result[i][j]/18151"
   ]
  },
  {
   "cell_type": "code",
   "execution_count": 11,
   "id": "ff81607e",
   "metadata": {},
   "outputs": [],
   "source": [
    "np.save('Covariance_180_127_train.npy',result1)"
   ]
  },
  {
   "cell_type": "code",
   "execution_count": 12,
   "id": "7bbfa176",
   "metadata": {},
   "outputs": [
    {
     "name": "stdout",
     "output_type": "stream",
     "text": [
      "[[255 137 207 ... 220 106  41]\n",
      " [137  60  90 ...  55  48 114]\n",
      " [207  90  81 ... 254 217 220]\n",
      " ...\n",
      " [220  55 254 ... 209  31 174]\n",
      " [106  48 217 ...  31 223  72]\n",
      " [ 41 114 220 ... 174  72  66]]\n"
     ]
    }
   ],
   "source": [
    "print(result)"
   ]
  },
  {
   "cell_type": "code",
   "execution_count": 13,
   "id": "872e58c5",
   "metadata": {},
   "outputs": [],
   "source": [
    "np.save('Covariance_180_127_train_without_div.npy',result)"
   ]
  },
  {
   "cell_type": "code",
   "execution_count": 10,
   "id": "0f130273",
   "metadata": {},
   "outputs": [
    {
     "name": "stdout",
     "output_type": "stream",
     "text": [
      "[[0.01404881 0.00754779 0.01140433 ... 0.01212054 0.0058399  0.00225883]\n",
      " [0.00754779 0.0033056  0.0049584  ... 0.00303014 0.00264448 0.00628065]\n",
      " [0.01140433 0.0049584  0.00446256 ... 0.01399372 0.01195526 0.01212054]\n",
      " ...\n",
      " [0.01212054 0.00303014 0.01399372 ... 0.01151452 0.00170789 0.00958625]\n",
      " [0.0058399  0.00264448 0.01195526 ... 0.00170789 0.01228582 0.00396672]\n",
      " [0.00225883 0.00628065 0.01212054 ... 0.00958625 0.00396672 0.00363616]]\n"
     ]
    }
   ],
   "source": [
    "print(result1)"
   ]
  }
 ],
 "metadata": {
  "kernelspec": {
   "display_name": "Python 3 (ipykernel)",
   "language": "python",
   "name": "python3"
  },
  "language_info": {
   "codemirror_mode": {
    "name": "ipython",
    "version": 3
   },
   "file_extension": ".py",
   "mimetype": "text/x-python",
   "name": "python",
   "nbconvert_exporter": "python",
   "pygments_lexer": "ipython3",
   "version": "3.9.12"
  }
 },
 "nbformat": 4,
 "nbformat_minor": 5
}
