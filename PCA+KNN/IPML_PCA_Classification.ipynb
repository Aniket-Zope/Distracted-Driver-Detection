{
 "cells": [
  {
   "cell_type": "code",
   "execution_count": 3,
   "id": "5168c52e",
   "metadata": {},
   "outputs": [],
   "source": [
    "import numpy as np"
   ]
  },
  {
   "cell_type": "code",
   "execution_count": 4,
   "id": "9c208698",
   "metadata": {},
   "outputs": [
    {
     "ename": "SyntaxError",
     "evalue": "invalid syntax (3612754219.py, line 1)",
     "output_type": "error",
     "traceback": [
      "\u001b[1;36m  Cell \u001b[1;32mIn[4], line 1\u001b[1;36m\u001b[0m\n\u001b[1;33m    C:/Users/rajhk/Desktop/IIT/ipml projject\u001b[0m\n\u001b[1;37m      ^\u001b[0m\n\u001b[1;31mSyntaxError\u001b[0m\u001b[1;31m:\u001b[0m invalid syntax\n"
     ]
    }
   ],
   "source": [
    "C:/Users/rajhk/Desktop/IIT/ipml projject"
   ]
  },
  {
   "cell_type": "code",
   "execution_count": 5,
   "id": "93753127",
   "metadata": {},
   "outputs": [],
   "source": [
    "eigen_values = np.load('C:/Users/rajhk/Desktop/IIT/ipml projject/eig_values_1.npy')"
   ]
  },
  {
   "cell_type": "code",
   "execution_count": 6,
   "id": "62d30c39",
   "metadata": {},
   "outputs": [],
   "source": [
    "eigen_vectors = np.load('C:/Users/rajhk/Desktop/IIT/ipml projject/eig_vectors_1.npy')"
   ]
  },
  {
   "cell_type": "code",
   "execution_count": 7,
   "id": "2a84b0bc",
   "metadata": {},
   "outputs": [
    {
     "name": "stdout",
     "output_type": "stream",
     "text": [
      "(22860, 22860)\n",
      "(22860,)\n"
     ]
    }
   ],
   "source": [
    "print(eigen_vectors.shape)\n",
    "print(eigen_values.shape)"
   ]
  },
  {
   "cell_type": "code",
   "execution_count": 8,
   "id": "e1b90b45",
   "metadata": {},
   "outputs": [
    {
     "name": "stdout",
     "output_type": "stream",
     "text": [
      "[ -1.2311611  -1.2277523  -1.2260431 ...   1.2283589   1.229796\n",
      " 160.58165  ]\n"
     ]
    }
   ],
   "source": [
    "print(eigen_values)"
   ]
  },
  {
   "cell_type": "code",
   "execution_count": 9,
   "id": "5408e69f",
   "metadata": {},
   "outputs": [
    {
     "name": "stdout",
     "output_type": "stream",
     "text": [
      "[[-8.0555044e-03  9.1236467e-03 -3.9888136e-03 ... -5.2905730e-03\n",
      "   1.4294059e-02  6.6192057e-03]\n",
      " [-9.6453540e-04  2.8413800e-03  7.4169966e-03 ... -5.1074689e-03\n",
      "   1.3262313e-03  6.6135526e-03]\n",
      " [-9.4314190e-03 -6.2000733e-03  1.8839445e-03 ... -2.5880570e-03\n",
      "  -2.3294184e-03  6.6084266e-03]\n",
      " ...\n",
      " [ 1.5669797e-03 -3.5238930e-03  9.7422972e-03 ...  8.6778804e-05\n",
      "  -7.5723305e-03  6.5973802e-03]\n",
      " [ 5.3078090e-03  1.0352592e-02  5.6625297e-04 ... -3.4211599e-03\n",
      "   8.6505460e-03  6.6133547e-03]\n",
      " [ 3.7231985e-05 -1.9158061e-03 -9.3621938e-03 ...  4.4245494e-04\n",
      "   1.8528271e-02  6.5937573e-03]]\n"
     ]
    }
   ],
   "source": [
    "print(eigen_vectors)"
   ]
  },
  {
   "cell_type": "code",
   "execution_count": 10,
   "id": "2ac9b0dc",
   "metadata": {},
   "outputs": [],
   "source": [
    "sorted_indices = np.argsort(eigen_values)[::-1]\n",
    "sorted_eigenvalues = eigen_values[sorted_indices]\n",
    "sorted_eigenvectors = eigen_vectors[:, sorted_indices]"
   ]
  },
  {
   "cell_type": "code",
   "execution_count": 11,
   "id": "b2c55478",
   "metadata": {},
   "outputs": [],
   "source": [
    "PC = sorted_eigenvectors[:200,:]"
   ]
  },
  {
   "cell_type": "code",
   "execution_count": 12,
   "id": "9bad3f7d",
   "metadata": {},
   "outputs": [
    {
     "data": {
      "text/plain": [
       "(200, 22860)"
      ]
     },
     "execution_count": 12,
     "metadata": {},
     "output_type": "execute_result"
    }
   ],
   "source": [
    "PC.shape"
   ]
  },
  {
   "cell_type": "code",
   "execution_count": 13,
   "id": "b22d9e4f",
   "metadata": {},
   "outputs": [],
   "source": [
    "X_data = np.load('C:/Users/rajhk/Desktop/IIT/ipml projject/X_data_third.npy')\n",
    "\n",
    "Y_data = np.load('C:/Users/rajhk/Desktop/IIT/ipml projject/Y_data_third.npy')\n"
   ]
  },
  {
   "cell_type": "code",
   "execution_count": 14,
   "id": "8e662790",
   "metadata": {},
   "outputs": [],
   "source": [
    "from sklearn.model_selection import train_test_split\n",
    " \n",
    "X_train, X_test, y_train, y_test = train_test_split(X_data, Y_data, test_size = 0.2, random_state = 42)"
   ]
  },
  {
   "cell_type": "code",
   "execution_count": 15,
   "id": "32354394",
   "metadata": {},
   "outputs": [
    {
     "name": "stdout",
     "output_type": "stream",
     "text": [
      "(18151, 22860)\n",
      "(4538, 22860)\n"
     ]
    }
   ],
   "source": [
    "print(X_train.shape)\n",
    "print(X_test.shape)"
   ]
  },
  {
   "cell_type": "code",
   "execution_count": 16,
   "id": "4a7781cb",
   "metadata": {},
   "outputs": [],
   "source": [
    "X_bar_pn_train = np.dot(PC,X_train.T)\n",
    "X_bar_pn_test = np.dot(PC,X_test.T)"
   ]
  },
  {
   "cell_type": "code",
   "execution_count": 17,
   "id": "e1c83c88",
   "metadata": {},
   "outputs": [
    {
     "data": {
      "text/html": [
       "<style>#sk-container-id-1 {color: black;background-color: white;}#sk-container-id-1 pre{padding: 0;}#sk-container-id-1 div.sk-toggleable {background-color: white;}#sk-container-id-1 label.sk-toggleable__label {cursor: pointer;display: block;width: 100%;margin-bottom: 0;padding: 0.3em;box-sizing: border-box;text-align: center;}#sk-container-id-1 label.sk-toggleable__label-arrow:before {content: \"▸\";float: left;margin-right: 0.25em;color: #696969;}#sk-container-id-1 label.sk-toggleable__label-arrow:hover:before {color: black;}#sk-container-id-1 div.sk-estimator:hover label.sk-toggleable__label-arrow:before {color: black;}#sk-container-id-1 div.sk-toggleable__content {max-height: 0;max-width: 0;overflow: hidden;text-align: left;background-color: #f0f8ff;}#sk-container-id-1 div.sk-toggleable__content pre {margin: 0.2em;color: black;border-radius: 0.25em;background-color: #f0f8ff;}#sk-container-id-1 input.sk-toggleable__control:checked~div.sk-toggleable__content {max-height: 200px;max-width: 100%;overflow: auto;}#sk-container-id-1 input.sk-toggleable__control:checked~label.sk-toggleable__label-arrow:before {content: \"▾\";}#sk-container-id-1 div.sk-estimator input.sk-toggleable__control:checked~label.sk-toggleable__label {background-color: #d4ebff;}#sk-container-id-1 div.sk-label input.sk-toggleable__control:checked~label.sk-toggleable__label {background-color: #d4ebff;}#sk-container-id-1 input.sk-hidden--visually {border: 0;clip: rect(1px 1px 1px 1px);clip: rect(1px, 1px, 1px, 1px);height: 1px;margin: -1px;overflow: hidden;padding: 0;position: absolute;width: 1px;}#sk-container-id-1 div.sk-estimator {font-family: monospace;background-color: #f0f8ff;border: 1px dotted black;border-radius: 0.25em;box-sizing: border-box;margin-bottom: 0.5em;}#sk-container-id-1 div.sk-estimator:hover {background-color: #d4ebff;}#sk-container-id-1 div.sk-parallel-item::after {content: \"\";width: 100%;border-bottom: 1px solid gray;flex-grow: 1;}#sk-container-id-1 div.sk-label:hover label.sk-toggleable__label {background-color: #d4ebff;}#sk-container-id-1 div.sk-serial::before {content: \"\";position: absolute;border-left: 1px solid gray;box-sizing: border-box;top: 0;bottom: 0;left: 50%;z-index: 0;}#sk-container-id-1 div.sk-serial {display: flex;flex-direction: column;align-items: center;background-color: white;padding-right: 0.2em;padding-left: 0.2em;position: relative;}#sk-container-id-1 div.sk-item {position: relative;z-index: 1;}#sk-container-id-1 div.sk-parallel {display: flex;align-items: stretch;justify-content: center;background-color: white;position: relative;}#sk-container-id-1 div.sk-item::before, #sk-container-id-1 div.sk-parallel-item::before {content: \"\";position: absolute;border-left: 1px solid gray;box-sizing: border-box;top: 0;bottom: 0;left: 50%;z-index: -1;}#sk-container-id-1 div.sk-parallel-item {display: flex;flex-direction: column;z-index: 1;position: relative;background-color: white;}#sk-container-id-1 div.sk-parallel-item:first-child::after {align-self: flex-end;width: 50%;}#sk-container-id-1 div.sk-parallel-item:last-child::after {align-self: flex-start;width: 50%;}#sk-container-id-1 div.sk-parallel-item:only-child::after {width: 0;}#sk-container-id-1 div.sk-dashed-wrapped {border: 1px dashed gray;margin: 0 0.4em 0.5em 0.4em;box-sizing: border-box;padding-bottom: 0.4em;background-color: white;}#sk-container-id-1 div.sk-label label {font-family: monospace;font-weight: bold;display: inline-block;line-height: 1.2em;}#sk-container-id-1 div.sk-label-container {text-align: center;}#sk-container-id-1 div.sk-container {/* jupyter's `normalize.less` sets `[hidden] { display: none; }` but bootstrap.min.css set `[hidden] { display: none !important; }` so we also need the `!important` here to be able to override the default hidden behavior on the sphinx rendered scikit-learn.org. See: https://github.com/scikit-learn/scikit-learn/issues/21755 */display: inline-block !important;position: relative;}#sk-container-id-1 div.sk-text-repr-fallback {display: none;}</style><div id=\"sk-container-id-1\" class=\"sk-top-container\"><div class=\"sk-text-repr-fallback\"><pre>KNeighborsClassifier(n_neighbors=51)</pre><b>In a Jupyter environment, please rerun this cell to show the HTML representation or trust the notebook. <br />On GitHub, the HTML representation is unable to render, please try loading this page with nbviewer.org.</b></div><div class=\"sk-container\" hidden><div class=\"sk-item\"><div class=\"sk-estimator sk-toggleable\"><input class=\"sk-toggleable__control sk-hidden--visually\" id=\"sk-estimator-id-1\" type=\"checkbox\" checked><label for=\"sk-estimator-id-1\" class=\"sk-toggleable__label sk-toggleable__label-arrow\">KNeighborsClassifier</label><div class=\"sk-toggleable__content\"><pre>KNeighborsClassifier(n_neighbors=51)</pre></div></div></div></div></div>"
      ],
      "text/plain": [
       "KNeighborsClassifier(n_neighbors=51)"
      ]
     },
     "execution_count": 17,
     "metadata": {},
     "output_type": "execute_result"
    }
   ],
   "source": [
    "from sklearn.neighbors import KNeighborsClassifier\n",
    "Knn = KNeighborsClassifier(n_neighbors=51)\n",
    "Knn.fit(X_bar_pn_train.T, y_train)"
   ]
  },
  {
   "cell_type": "code",
   "execution_count": 21,
   "id": "0b20ff42",
   "metadata": {},
   "outputs": [],
   "source": [
    "y_pred = Knn.predict(X_bar_pn_test.T)"
   ]
  },
  {
   "cell_type": "code",
   "execution_count": 22,
   "id": "9f257b48",
   "metadata": {},
   "outputs": [],
   "source": [
    "from sklearn.metrics import confusion_matrix\n",
    " \n",
    "cm = confusion_matrix(y_test, y_pred)"
   ]
  },
  {
   "cell_type": "code",
   "execution_count": 23,
   "id": "0882d300",
   "metadata": {},
   "outputs": [
    {
     "name": "stdout",
     "output_type": "stream",
     "text": [
      "[[447   2  10   0   0   8   0   4   0   0]\n",
      " [  0  62   1 126 130   0   0 100   0  81]\n",
      " [  0   1 466   1   0   0   5   0   0   0]\n",
      " [  0 126   0  48 123   0   0 105   0  67]\n",
      " [  1 128   1 106  41   0   0  87   0  76]\n",
      " [  5   1   4   0   0 447   4   0   0   0]\n",
      " [  1   0  17   1   1   7 436   1   1   0]\n",
      " [  0 120   1 107 124   0   0  28   0  70]\n",
      " [ 13   1  48   0   2   7  16   0 295   0]\n",
      " [  0 132   0  90 105   0   0  83   0  17]]\n"
     ]
    }
   ],
   "source": [
    "print(cm)"
   ]
  },
  {
   "cell_type": "code",
   "execution_count": 24,
   "id": "b8125d08",
   "metadata": {},
   "outputs": [
    {
     "data": {
      "text/plain": [
       "0.503966505068312"
      ]
     },
     "execution_count": 24,
     "metadata": {},
     "output_type": "execute_result"
    }
   ],
   "source": [
    "from sklearn.metrics import accuracy_score\n",
    "accuracy_score(y_test, y_pred)"
   ]
  }
 ],
 "metadata": {
  "kernelspec": {
   "display_name": "Python 3 (ipykernel)",
   "language": "python",
   "name": "python3"
  },
  "language_info": {
   "codemirror_mode": {
    "name": "ipython",
    "version": 3
   },
   "file_extension": ".py",
   "mimetype": "text/x-python",
   "name": "python",
   "nbconvert_exporter": "python",
   "pygments_lexer": "ipython3",
   "version": "3.9.12"
  }
 },
 "nbformat": 4,
 "nbformat_minor": 5
}
